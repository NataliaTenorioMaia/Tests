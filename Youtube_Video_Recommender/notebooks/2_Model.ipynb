{
 "cells": [
  {
   "cell_type": "markdown",
   "metadata": {},
   "source": [
    "# Model\n",
    "\n",
    "At this point, we have collected, cleaned and prepared our data. We are now ready to start training the machine learning model which will be used to predict which of the new videos on [Youtube](https://www.youtube.com), related to artificial intelligence, machine learning and deep learning, are appealing to my taste.\n",
    "\n",
    "In this notebook, we will compare the performance of three classifiers: Random Forest, LightGBM and Logistic Regression.\n",
    "\n",
    "## Importing data"
   ]
  },
  {
   "cell_type": "code",
   "execution_count": 1,
   "metadata": {},
   "outputs": [],
   "source": [
    "import pandas as pd                                                # handles dataframes\n",
    "import numpy as np                                                 # performs math operations\n",
    "from sklearn.feature_extraction.text import TfidfVectorizer        # assign numerical values to text\n",
    "from scipy.sparse import hstack, vstack                            # stacks sparse matrices\n",
    "from sklearn.model_selection import train_test_split               # splits datasets\n",
    "from sklearn.linear_model import LogisticRegression                # logistic regression classifier\n",
    "from sklearn.ensemble import RandomForestClassifier                # random forest classifier\n",
    "from lightgbm import LGBMClassifier                                # lightGBM classificer\n",
    "from sklearn.metrics import roc_auc_score, average_precision_score # metrics\n",
    "from skopt import forest_minimize                                  # forest minimizer\n",
    "from sklearn.preprocessing import MaxAbsScaler, StandardScaler     # for scaling and normalization\n",
    "from scipy.sparse import csr_matrix                                # converts dense to sparse matrix and vice versa\n",
    "from sklearn.pipeline import make_pipeline                         # constructs a pipeline\n",
    "from sklearn.model_selection import GridSearchCV                   # finds best parameters\n",
    "import matplotlib.pyplot as plt                                    # plots data"
   ]
  },
  {
   "cell_type": "code",
   "execution_count": 2,
   "metadata": {},
   "outputs": [
    {
     "data": {
      "text/plain": [
       "((1393, 7),\n",
       " Index(['categ', 'duration', 'views', 'like_ratio', 'channel_appeal', 'title',\n",
       "        'y'],\n",
       "       dtype='object'))"
      ]
     },
     "execution_count": 2,
     "metadata": {},
     "output_type": "execute_result"
    }
   ],
   "source": [
    "# Importing data:\n",
    "df = pd.read_csv(\"train.csv\", index_col=0).dropna(subset=[\"y\"])\n",
    "df.shape, df.columns"
   ]
  },
  {
   "cell_type": "code",
   "execution_count": 3,
   "metadata": {},
   "outputs": [
    {
     "name": "stdout",
     "output_type": "stream",
     "text": [
      "Positive examples:  462\n",
      "Negative examples:  931\n"
     ]
    }
   ],
   "source": [
    "print('Positive examples: ',len(df[df['y']==1]))\n",
    "print('Negative examples: ',len(df[df['y']==0]))"
   ]
  },
  {
   "cell_type": "markdown",
   "metadata": {},
   "source": [
    "In the following, we define the training and test datasets as well as transform the text entries for 'title' into numbers. For that, we use scikitlearn's function [TfidfVectorizer](https://scikit-learn.org/stable/modules/generated/sklearn.feature_extraction.text.TfidfVectorizer.html) to transform the text entries of the 'title' feature into numerical values which can be used to train the model. This function gives a higher weight to words that appear more frequently in a given example whereas that word is not very common in the entire dataset.\n",
    "\n",
    "The argument *min-df* is the minimum number which a word has to appear in the text (in this case, the video title) in order to be accounted for. The argument *max_features* limits the number of word contained in the vocabulary, ordered by word frequency. The argument *ngram_range(i,j)*, in turn, is related to the combinations of words: \"i\" the minimum number of words that the sequential combination will have, while \"j\" is the maximum number of words contained in a sequential combination. For instance, if the video has the title \"How to master machine learning\", we will have these situations:<br>\n",
    "ngram_range(1,1): \"How\", \"to\", \"master\", \"machine\", \"learning\"<br>\n",
    "ngram_range(1,2): \"How\", \"to\", \"master\", \"machine\", \"learning\", \"How to\", \"to master\", \"master machine\", \" machine learning\"<br>\n",
    "ngram_range(2,2): \"How to\", \"to master\", \"master machine\", \" machine learning\""
   ]
  },
  {
   "cell_type": "code",
   "execution_count": 4,
   "metadata": {},
   "outputs": [
    {
     "name": "stdout",
     "output_type": "stream",
     "text": [
      "Before transforming 'title':  (975, 6) (418, 6) (975,) (418,)\n",
      "After transforming 'title':  (975, 405) (418, 405) (975,) (418,)\n"
     ]
    }
   ],
   "source": [
    "X = df.drop(['y'],axis=1).copy() # input training set\n",
    "y = df['y'].copy()               # output training set\n",
    "\n",
    "# Training and test sets:\n",
    "Xtr, Xtest, ytr, ytest = train_test_split(X,y,test_size=0.3,random_state=0)\n",
    "print(\"Before transforming 'title': \",Xtr.shape, Xtest.shape, ytr.shape, ytest.shape)\n",
    "\n",
    "# Function to transform title into numerical values:\n",
    "def Title_bow(Xtr,Xtest,min_df,ngram_range,max_features=None):\n",
    "    title_vec = TfidfVectorizer(min_df=min_df, ngram_range=ngram_range,max_features=max_features)\n",
    "    title_bow_tr = title_vec.fit_transform(Xtr['title']) \n",
    "    title_bow_test = title_vec.transform(Xtest['title'])\n",
    "    return title_bow_tr, title_bow_test\n",
    "\n",
    "# Let's see how introducing the vectorized title features would change the dataset:\n",
    "title_bow_tr, title_bow_test = Title_bow(Xtr,Xtest,2,(1,1),400)\n",
    "Xtr  = hstack([Xtr.drop(['title'],axis=1), title_bow_tr])\n",
    "Xtest = hstack([Xtest.drop(['title'],axis=1), title_bow_test])\n",
    "print(\"After transforming 'title': \",Xtr.shape, Xtest.shape, ytr.shape, ytest.shape)"
   ]
  },
  {
   "cell_type": "markdown",
   "metadata": {},
   "source": [
    "## Random Forest\n",
    "\n",
    "The [Random Forest](https://scikit-learn.org/stable/modules/generated/sklearn.ensemble.RandomForestClassifier.html) is the first model that we are going to train. In this section, we will be investigating the possible choices for the parameters that will lead to the best performance of the model.\n",
    "\n",
    "First let us see how the Random Forest classifier performs without tuning its parameters:"
   ]
  },
  {
   "cell_type": "code",
   "execution_count": 5,
   "metadata": {},
   "outputs": [
    {
     "name": "stdout",
     "output_type": "stream",
     "text": [
      "AP:         0.6631\n",
      "AUC:        0.8161\n",
      "Train acc:  0.9959\n",
      "Test acc:   0.744\n"
     ]
    }
   ],
   "source": [
    "# Non-optimal Random Forest:\n",
    "clf_RF = RandomForestClassifier(class_weight=\"balanced\", n_jobs=4, random_state=0)\n",
    "clf_RF.fit(Xtr, ytr)\n",
    "p = clf_RF.predict_proba(Xtest)[:,1]   # prediction array\n",
    "ap = average_precision_score(ytest, p) # average precision score\n",
    "auc = roc_auc_score(ytest, p)          # area under the curve score\n",
    "\n",
    "print('{:<10}  {}'.format('AP:',round(ap,4)))\n",
    "print('{:<10}  {}'.format('AUC:',round(auc,4)))\n",
    "print('{:<10}  {}'.format('Train acc:',round(clf_RF.score(Xtr,ytr),4)))\n",
    "print('{:<10}  {}'.format('Test acc:',round(clf_RF.score(Xtest,ytest),4)))"
   ]
  },
  {
   "cell_type": "markdown",
   "metadata": {},
   "source": [
    "The results above show that this classifier is clearly overfitting. We can improve that by tuninng the parameters, as follows.\n",
    "\n",
    "#### GridSearch\n",
    "\n",
    "We now explore the best parameters for the Random Forest model using [GridSearchCV](https://scikit-learn.org/stable/modules/generated/sklearn.model_selection.GridSearchCV.html) from sklearn. In the function explore_RF defined below, we investigate how the model improves when we change the number of maximum features in TfidfVectorizer, more specifically the function Title_bow defined at the end of the previous section, while we simultaneously search for optimal parameters for the Random Forest classifier.\n",
    "\n",
    "The primary metric used for the optimization process is the average precision, while the secondary is the area under the ROC curve. Those metrics are preferable in comparison to accuracy because our data are unbalanced, since the number of negative examples is approximately the double of the positive ones."
   ]
  },
  {
   "cell_type": "code",
   "execution_count": 6,
   "metadata": {},
   "outputs": [],
   "source": [
    "# Random Forest parameters to be optimized:\n",
    "n_estimators = [300]               # Number of trees in the random forest\n",
    "max_features = ['auto','sqrt']     # Number of features to consider at every split\n",
    "max_depth = [6,8]                  # Maximum number of levels in tree\n",
    "min_samples_split = [5,10]         # Minimum number of samples required to split a node\n",
    "min_samples_leaf = [1,2]           # Minimum number of samples required at each leaf node\n",
    "max_leaf_nodes = [None]            # Grow trees with max_leaf_nodes in best-first fashion\n",
    "\n",
    "# Creating the parameter grid:\n",
    "param_grid = {'n_estimators': n_estimators,\n",
    "              'max_features': max_features,\n",
    "              'max_depth': max_depth,\n",
    "              'min_samples_split': min_samples_split,\n",
    "              'min_samples_leaf': min_samples_leaf,\n",
    "              'max_leaf_nodes': max_leaf_nodes}\n",
    "\n",
    "def explore_RF(param_grid, max_feat, num_loops):\n",
    "    \"\"\"\n",
    "    Returns the scores for the train and the test performance metrics,\n",
    "    the max_features that were used and the best parameters\n",
    "    found by the GridSearch for the Random Forest classifier.\n",
    "    \n",
    "    param_grid: Random Forest parameter grid;\n",
    "    max_feat: TfidfVectorizer max_features;\n",
    "    num_loops: number of times the scores will be computed.\n",
    "    \"\"\"\n",
    "    train_ap = [];     test_ap  = [];\n",
    "    train_auc = [];    test_auc = [];\n",
    "    train_acc = [];    test_acc = [];\n",
    "    num_max_feat = []; best_param = []   \n",
    "    for i in range(num_loops):\n",
    "        # Vectorizing titles:\n",
    "        Xtr, Xtest, ytr, ytest = train_test_split(X,y,test_size=0.4,random_state=0)\n",
    "        title_bow_tr, title_bow_test = Title_bow(Xtr,Xtest,2,(1,1), max_feat+(10*i) )\n",
    "        Xtr  = hstack([Xtr.drop(['title'],axis=1), title_bow_tr])\n",
    "        Xtest = hstack([Xtest.drop(['title'],axis=1), title_bow_test])\n",
    "    \n",
    "        # Model:\n",
    "        rf_Model = RandomForestClassifier(class_weight=\"balanced\")\n",
    "        rf_Grid = GridSearchCV(estimator=rf_Model,param_grid=param_grid,scoring='average_precision',cv=4,n_jobs=4)\n",
    "        rf_Grid.fit(Xtr, ytr)\n",
    "        clf_RF = rf_Grid.best_estimator_\n",
    "        \n",
    "        # Probability of predicting that a video is appealing:\n",
    "        p_tr = clf_RF.predict_proba(Xtr)[:,1]\n",
    "        p_test = clf_RF.predict_proba(Xtest)[:,1]\n",
    "        \n",
    "        # Results:\n",
    "        train_ap.append(average_precision_score(ytr, p_tr))     \n",
    "        test_ap.append(average_precision_score(ytest, p_test))\n",
    "        train_auc.append(roc_auc_score(ytr, p_tr))\n",
    "        test_auc.append(roc_auc_score(ytest, p_test))\n",
    "        train_acc.append(clf_RF.score(Xtr,ytr))\n",
    "        test_acc.append(clf_RF.score(Xtest,ytest))\n",
    "        num_max_feat.append( max_feat+(10*i) )\n",
    "        best_param.append(rf_Grid.best_params_)\n",
    "    return train_ap, test_ap, train_auc, test_auc, train_acc, test_acc, num_max_feat, best_param\n",
    "\n",
    "train_ap,test_ap, train_auc,test_auc, train_acc,test_acc, num_max_feat,best_param = explore_RF(param_grid, 10, 50)"
   ]
  },
  {
   "cell_type": "code",
   "execution_count": 7,
   "metadata": {},
   "outputs": [
    {
     "data": {
      "image/png": "[encoded data removed]",
      "text/plain": [
       "<Figure size 432x288 with 1 Axes>"
      ]
     },
     "metadata": {
      "needs_background": "light"
     },
     "output_type": "display_data"
    }
   ],
   "source": [
    "# Plotting average precision values\n",
    "plt.plot(num_max_feat,train_ap,label='train'); plt.plot(num_max_feat,test_ap,label='test'); plt.legend();\n",
    "plt.xlabel('max_features'); plt.ylabel('average precision');\n",
    "plt.title(\"Average Precision vs TfidfVectorizer's max_features\");"
   ]
  },
  {
   "cell_type": "code",
   "execution_count": 8,
   "metadata": {},
   "outputs": [
    {
     "data": {
      "image/png": "[encoded data removed]",
      "text/plain": [
       "<Figure size 432x288 with 1 Axes>"
      ]
     },
     "metadata": {
      "needs_background": "light"
     },
     "output_type": "display_data"
    }
   ],
   "source": [
    "# Plotting area under the roc curve values\n",
    "plt.plot(num_max_feat,train_auc,label='train'); plt.plot(num_max_feat,test_auc,label='test'); plt.legend();\n",
    "plt.xlabel('max_features'); plt.ylabel('auc');\n",
    "plt.title(\"AUC vs TfidfVectorizer's max_features\");"
   ]
  },
  {
   "cell_type": "code",
   "execution_count": 9,
   "metadata": {},
   "outputs": [
    {
     "data": {
      "image/png": "[encoded data removed]",
      "text/plain": [
       "<Figure size 432x288 with 1 Axes>"
      ]
     },
     "metadata": {
      "needs_background": "light"
     },
     "output_type": "display_data"
    }
   ],
   "source": [
    "# Plotting accuracy values\n",
    "plt.plot(num_max_feat,train_acc,label='train'); plt.plot(num_max_feat,test_acc,label='test'); plt.legend();\n",
    "plt.xlabel('max_features'); plt.ylabel('accuracy');\n",
    "plt.title(\"Accuracy vs TfidfVectorizer's max_features\");"
   ]
  },
  {
   "cell_type": "markdown",
   "metadata": {},
   "source": [
    "In all the three graphs above we see that by adding the vectorized title features to the dataset we improve all the metrics. The average precision for the test dataset, which is the most important metric to evaluate the performance of our model, stabilizes around max_features=400. The metrics AUC and accuracy behave similarly. The high oscilation in the curves of the graphics above is related to the number of trees chosen in order to speed up the grid search, which was n_estimators=300. \n",
    "\n",
    "#### Fitted Random Forest Model\n",
    "\n",
    "In the following, we will train the random forest model with the best parameters associated with TfidfVectorizer's max_features=400, but increasing the number of trees to 1000 to get more stable predictions. Also, regarding the title vectorizer Title_bow, we use min_df=2 instead of min_df=1 or even min_df=3 because it slightly improves the scores, as I have manually verified that. Same thing for the choice of ngram_range=(1,1)."
   ]
  },
  {
   "cell_type": "code",
   "execution_count": 10,
   "metadata": {},
   "outputs": [
    {
     "data": {
      "text/plain": [
       "(400,\n",
       " {'max_depth': 8,\n",
       "  'max_features': 'auto',\n",
       "  'max_leaf_nodes': None,\n",
       "  'min_samples_leaf': 1,\n",
       "  'min_samples_split': 5,\n",
       "  'n_estimators': 300})"
      ]
     },
     "execution_count": 10,
     "metadata": {},
     "output_type": "execute_result"
    }
   ],
   "source": [
    "num_max_feat[39], best_param[39]"
   ]
  },
  {
   "cell_type": "code",
   "execution_count": 11,
   "metadata": {},
   "outputs": [
    {
     "name": "stdout",
     "output_type": "stream",
     "text": [
      "AP:         0.701\n",
      "AUC:        0.8003\n",
      "Train acc:  0.8683\n",
      "Test acc:   0.7563\n"
     ]
    }
   ],
   "source": [
    "# Using title vectorizer with the good choice for max_features:\n",
    "Xtr, Xtest, ytr, ytest = train_test_split(X,y,test_size=0.4,random_state=0)\n",
    "title_bow_tr, title_bow_test = Title_bow(Xtr,Xtest,2,(1,1), 400 )\n",
    "Xtr  = hstack([Xtr.drop(['title'],axis=1), title_bow_tr])\n",
    "Xtest = hstack([Xtest.drop(['title'],axis=1), title_bow_test])\n",
    "\n",
    "# Random Forest fitted parameters and higher number of trees:\n",
    "n_estimators =      1000\n",
    "max_features =      best_param[39]['max_features']\n",
    "max_depth =         best_param[39]['max_depth']\n",
    "min_samples_split = best_param[39]['min_samples_split']\n",
    "min_samples_leaf =  best_param[39]['min_samples_leaf']\n",
    "max_leaf_nodes =    best_param[39]['max_leaf_nodes']\n",
    "\n",
    "# Optimal Random Forest model:\n",
    "clf_RF = RandomForestClassifier(n_estimators=n_estimators, max_features=max_features, max_depth=max_depth,\n",
    "                                min_samples_split=min_samples_split, min_samples_leaf=min_samples_leaf,\n",
    "                                max_leaf_nodes=None, class_weight=\"balanced\", n_jobs=4, random_state=0)\n",
    "clf_RF.fit(Xtr, ytr)\n",
    "p = clf_RF.predict_proba(Xtest)[:,1]   # prediction array\n",
    "ap = average_precision_score(ytest, p) # average precision score\n",
    "auc = roc_auc_score(ytest, p)          # area under the curve score\n",
    "\n",
    "print('{:<10}  {}'.format('AP:',round(ap,4)))\n",
    "print('{:<10}  {}'.format('AUC:',round(auc,4)))\n",
    "print('{:<10}  {}'.format('Train acc:',round(clf_RF.score(Xtr,ytr),4)))\n",
    "print('{:<10}  {}'.format('Test acc:',round(clf_RF.score(Xtest,ytest),4)))"
   ]
  },
  {
   "cell_type": "markdown",
   "metadata": {},
   "source": [
    "When we compare the results above to the ones computed in the begining of this section, we realize that by tuning the parameters we have substantially improved the average precision while we have also managed to control the overfitting problem.\n",
    "\n",
    "# LightGBM\n",
    "\n",
    "The next model to be checked is the [LightGBM](https://lightgbm.readthedocs.io/en/latest/Python-Intro.html). Let us see if it gives us better results than Random Forest's. We will start by looking at LightGBM scores without tuning the parameters to see how the classifier performs:"
   ]
  },
  {
   "cell_type": "code",
   "execution_count": 12,
   "metadata": {},
   "outputs": [],
   "source": [
    "import warnings\n",
    "warnings.filterwarnings(\"ignore\")"
   ]
  },
  {
   "cell_type": "code",
   "execution_count": 13,
   "metadata": {},
   "outputs": [
    {
     "name": "stdout",
     "output_type": "stream",
     "text": [
      "AP:         0.6255\n",
      "AUC:        0.7777\n",
      "Train acc:  0.9832\n",
      "Test acc:   0.733\n"
     ]
    }
   ],
   "source": [
    "# Model without tuning parameters:\n",
    "clf_LGBM = LGBMClassifier(random_state=0, class_weight=\"balanced\", n_jobs=4)\n",
    "clf_LGBM.fit(Xtr, ytr)\n",
    "p = clf_LGBM.predict_proba(Xtest)[:, 1]\n",
    "ap = average_precision_score(ytest, p)\n",
    "auc = roc_auc_score(ytest, p)\n",
    "print('{:<10}  {}'.format('AP:',round(ap,4)))\n",
    "print('{:<10}  {}'.format('AUC:',round(auc,4)))\n",
    "print('{:<10}  {}'.format('Train acc:',round(clf_LGBM.score(Xtr,ytr),4)))\n",
    "print('{:<10}  {}'.format('Test acc:',round(clf_LGBM.score(Xtest,ytest),4)))"
   ]
  },
  {
   "cell_type": "markdown",
   "metadata": {},
   "source": [
    "The only metric that is higher compared to the Random Forest model is the train accuracy, which is most likely due to overfitting. Let us see if by tuning the parameters we can improve the LightGBM scores, and possibily make it beat the Random Forest model.\n",
    "\n",
    "#### Bayesian Optimization"
   ]
  },
  {
   "cell_type": "code",
   "execution_count": 14,
   "metadata": {},
   "outputs": [
    {
     "name": "stdout",
     "output_type": "stream",
     "text": [
      "[LightGBM] [Warning] bagging_freq is set=1, subsample_freq=0 will be ignored. Current value: bagging_freq=1\n",
      "[LightGBM] [Warning] bagging_freq is set=1, subsample_freq=0 will be ignored. Current value: bagging_freq=1\n",
      "[LightGBM] [Warning] bagging_freq is set=1, subsample_freq=0 will be ignored. Current value: bagging_freq=1\n",
      "[LightGBM] [Warning] bagging_freq is set=1, subsample_freq=0 will be ignored. Current value: bagging_freq=1\n",
      "[LightGBM] [Warning] bagging_freq is set=1, subsample_freq=0 will be ignored. Current value: bagging_freq=1\n",
      "[LightGBM] [Warning] bagging_freq is set=1, subsample_freq=0 will be ignored. Current value: bagging_freq=1\n",
      "[LightGBM] [Warning] bagging_freq is set=1, subsample_freq=0 will be ignored. Current value: bagging_freq=1\n",
      "[LightGBM] [Warning] bagging_freq is set=1, subsample_freq=0 will be ignored. Current value: bagging_freq=1\n",
      "[LightGBM] [Warning] bagging_freq is set=1, subsample_freq=0 will be ignored. Current value: bagging_freq=1\n",
      "[LightGBM] [Warning] bagging_freq is set=1, subsample_freq=0 will be ignored. Current value: bagging_freq=1\n",
      "[LightGBM] [Warning] bagging_freq is set=1, subsample_freq=0 will be ignored. Current value: bagging_freq=1\n",
      "[LightGBM] [Warning] bagging_freq is set=1, subsample_freq=0 will be ignored. Current value: bagging_freq=1\n",
      "[LightGBM] [Warning] bagging_freq is set=1, subsample_freq=0 will be ignored. Current value: bagging_freq=1\n",
      "[LightGBM] [Warning] bagging_freq is set=1, subsample_freq=0 will be ignored. Current value: bagging_freq=1\n",
      "[LightGBM] [Warning] bagging_freq is set=1, subsample_freq=0 will be ignored. Current value: bagging_freq=1\n",
      "[LightGBM] [Warning] bagging_freq is set=1, subsample_freq=0 will be ignored. Current value: bagging_freq=1\n",
      "[LightGBM] [Warning] bagging_freq is set=1, subsample_freq=0 will be ignored. Current value: bagging_freq=1\n",
      "[LightGBM] [Warning] bagging_freq is set=1, subsample_freq=0 will be ignored. Current value: bagging_freq=1\n",
      "[LightGBM] [Warning] bagging_freq is set=1, subsample_freq=0 will be ignored. Current value: bagging_freq=1\n",
      "[LightGBM] [Warning] bagging_freq is set=1, subsample_freq=0 will be ignored. Current value: bagging_freq=1\n",
      "[LightGBM] [Warning] bagging_freq is set=1, subsample_freq=0 will be ignored. Current value: bagging_freq=1\n",
      "[LightGBM] [Warning] bagging_freq is set=1, subsample_freq=0 will be ignored. Current value: bagging_freq=1\n",
      "[LightGBM] [Warning] bagging_freq is set=1, subsample_freq=0 will be ignored. Current value: bagging_freq=1\n",
      "[LightGBM] [Warning] bagging_freq is set=1, subsample_freq=0 will be ignored. Current value: bagging_freq=1\n",
      "[LightGBM] [Warning] bagging_freq is set=1, subsample_freq=0 will be ignored. Current value: bagging_freq=1\n",
      "[LightGBM] [Warning] bagging_freq is set=1, subsample_freq=0 will be ignored. Current value: bagging_freq=1\n",
      "[LightGBM] [Warning] bagging_freq is set=1, subsample_freq=0 will be ignored. Current value: bagging_freq=1\n",
      "[LightGBM] [Warning] bagging_freq is set=1, subsample_freq=0 will be ignored. Current value: bagging_freq=1\n",
      "[LightGBM] [Warning] bagging_freq is set=1, subsample_freq=0 will be ignored. Current value: bagging_freq=1\n",
      "[LightGBM] [Warning] bagging_freq is set=1, subsample_freq=0 will be ignored. Current value: bagging_freq=1\n",
      "[LightGBM] [Warning] bagging_freq is set=1, subsample_freq=0 will be ignored. Current value: bagging_freq=1\n",
      "[LightGBM] [Warning] bagging_freq is set=1, subsample_freq=0 will be ignored. Current value: bagging_freq=1\n",
      "[LightGBM] [Warning] bagging_freq is set=1, subsample_freq=0 will be ignored. Current value: bagging_freq=1\n",
      "[LightGBM] [Warning] bagging_freq is set=1, subsample_freq=0 will be ignored. Current value: bagging_freq=1\n",
      "[LightGBM] [Warning] bagging_freq is set=1, subsample_freq=0 will be ignored. Current value: bagging_freq=1\n",
      "[LightGBM] [Warning] bagging_freq is set=1, subsample_freq=0 will be ignored. Current value: bagging_freq=1\n",
      "[LightGBM] [Warning] bagging_freq is set=1, subsample_freq=0 will be ignored. Current value: bagging_freq=1\n",
      "[LightGBM] [Warning] bagging_freq is set=1, subsample_freq=0 will be ignored. Current value: bagging_freq=1\n",
      "[LightGBM] [Warning] bagging_freq is set=1, subsample_freq=0 will be ignored. Current value: bagging_freq=1\n",
      "[LightGBM] [Warning] bagging_freq is set=1, subsample_freq=0 will be ignored. Current value: bagging_freq=1\n",
      "[LightGBM] [Warning] bagging_freq is set=1, subsample_freq=0 will be ignored. Current value: bagging_freq=1\n",
      "[LightGBM] [Warning] bagging_freq is set=1, subsample_freq=0 will be ignored. Current value: bagging_freq=1\n",
      "[LightGBM] [Warning] bagging_freq is set=1, subsample_freq=0 will be ignored. Current value: bagging_freq=1\n",
      "[LightGBM] [Warning] bagging_freq is set=1, subsample_freq=0 will be ignored. Current value: bagging_freq=1\n",
      "[LightGBM] [Warning] bagging_freq is set=1, subsample_freq=0 will be ignored. Current value: bagging_freq=1\n",
      "[LightGBM] [Warning] bagging_freq is set=1, subsample_freq=0 will be ignored. Current value: bagging_freq=1\n",
      "[LightGBM] [Warning] bagging_freq is set=1, subsample_freq=0 will be ignored. Current value: bagging_freq=1\n",
      "[LightGBM] [Warning] bagging_freq is set=1, subsample_freq=0 will be ignored. Current value: bagging_freq=1\n",
      "[LightGBM] [Warning] bagging_freq is set=1, subsample_freq=0 will be ignored. Current value: bagging_freq=1\n",
      "[LightGBM] [Warning] bagging_freq is set=1, subsample_freq=0 will be ignored. Current value: bagging_freq=1\n",
      "[LightGBM] [Warning] bagging_freq is set=1, subsample_freq=0 will be ignored. Current value: bagging_freq=1\n",
      "[LightGBM] [Warning] bagging_freq is set=1, subsample_freq=0 will be ignored. Current value: bagging_freq=1\n",
      "[LightGBM] [Warning] bagging_freq is set=1, subsample_freq=0 will be ignored. Current value: bagging_freq=1\n",
      "[LightGBM] [Warning] bagging_freq is set=1, subsample_freq=0 will be ignored. Current value: bagging_freq=1\n",
      "[LightGBM] [Warning] bagging_freq is set=1, subsample_freq=0 will be ignored. Current value: bagging_freq=1\n",
      "[LightGBM] [Warning] bagging_freq is set=1, subsample_freq=0 will be ignored. Current value: bagging_freq=1\n",
      "[LightGBM] [Warning] bagging_freq is set=1, subsample_freq=0 will be ignored. Current value: bagging_freq=1\n",
      "[LightGBM] [Warning] bagging_freq is set=1, subsample_freq=0 will be ignored. Current value: bagging_freq=1\n",
      "[LightGBM] [Warning] bagging_freq is set=1, subsample_freq=0 will be ignored. Current value: bagging_freq=1\n",
      "[LightGBM] [Warning] bagging_freq is set=1, subsample_freq=0 will be ignored. Current value: bagging_freq=1\n",
      "[LightGBM] [Warning] bagging_freq is set=1, subsample_freq=0 will be ignored. Current value: bagging_freq=1\n",
      "[LightGBM] [Warning] bagging_freq is set=1, subsample_freq=0 will be ignored. Current value: bagging_freq=1\n",
      "[LightGBM] [Warning] bagging_freq is set=1, subsample_freq=0 will be ignored. Current value: bagging_freq=1\n",
      "[LightGBM] [Warning] bagging_freq is set=1, subsample_freq=0 will be ignored. Current value: bagging_freq=1\n",
      "[LightGBM] [Warning] bagging_freq is set=1, subsample_freq=0 will be ignored. Current value: bagging_freq=1\n",
      "[LightGBM] [Warning] bagging_freq is set=1, subsample_freq=0 will be ignored. Current value: bagging_freq=1\n",
      "[LightGBM] [Warning] bagging_freq is set=1, subsample_freq=0 will be ignored. Current value: bagging_freq=1\n",
      "[LightGBM] [Warning] bagging_freq is set=1, subsample_freq=0 will be ignored. Current value: bagging_freq=1\n",
      "[LightGBM] [Warning] bagging_freq is set=1, subsample_freq=0 will be ignored. Current value: bagging_freq=1\n",
      "[LightGBM] [Warning] bagging_freq is set=1, subsample_freq=0 will be ignored. Current value: bagging_freq=1\n",
      "[LightGBM] [Warning] bagging_freq is set=1, subsample_freq=0 will be ignored. Current value: bagging_freq=1\n",
      "[LightGBM] [Warning] bagging_freq is set=1, subsample_freq=0 will be ignored. Current value: bagging_freq=1\n",
      "[LightGBM] [Warning] bagging_freq is set=1, subsample_freq=0 will be ignored. Current value: bagging_freq=1\n",
      "[LightGBM] [Warning] bagging_freq is set=1, subsample_freq=0 will be ignored. Current value: bagging_freq=1\n",
      "[LightGBM] [Warning] bagging_freq is set=1, subsample_freq=0 will be ignored. Current value: bagging_freq=1\n",
      "[LightGBM] [Warning] bagging_freq is set=1, subsample_freq=0 will be ignored. Current value: bagging_freq=1\n"
     ]
    },
    {
     "name": "stdout",
     "output_type": "stream",
     "text": [
      "[LightGBM] [Warning] bagging_freq is set=1, subsample_freq=0 will be ignored. Current value: bagging_freq=1\n",
      "[LightGBM] [Warning] bagging_freq is set=1, subsample_freq=0 will be ignored. Current value: bagging_freq=1\n",
      "[LightGBM] [Warning] bagging_freq is set=1, subsample_freq=0 will be ignored. Current value: bagging_freq=1\n",
      "[LightGBM] [Warning] bagging_freq is set=1, subsample_freq=0 will be ignored. Current value: bagging_freq=1\n",
      "[LightGBM] [Warning] bagging_freq is set=1, subsample_freq=0 will be ignored. Current value: bagging_freq=1\n",
      "[LightGBM] [Warning] bagging_freq is set=1, subsample_freq=0 will be ignored. Current value: bagging_freq=1\n",
      "[LightGBM] [Warning] bagging_freq is set=1, subsample_freq=0 will be ignored. Current value: bagging_freq=1\n",
      "[LightGBM] [Warning] bagging_freq is set=1, subsample_freq=0 will be ignored. Current value: bagging_freq=1\n",
      "[LightGBM] [Warning] bagging_freq is set=1, subsample_freq=0 will be ignored. Current value: bagging_freq=1\n",
      "[LightGBM] [Warning] bagging_freq is set=1, subsample_freq=0 will be ignored. Current value: bagging_freq=1\n",
      "[LightGBM] [Warning] bagging_freq is set=1, subsample_freq=0 will be ignored. Current value: bagging_freq=1\n",
      "[LightGBM] [Warning] bagging_freq is set=1, subsample_freq=0 will be ignored. Current value: bagging_freq=1\n",
      "[LightGBM] [Warning] bagging_freq is set=1, subsample_freq=0 will be ignored. Current value: bagging_freq=1\n",
      "[LightGBM] [Warning] bagging_freq is set=1, subsample_freq=0 will be ignored. Current value: bagging_freq=1\n",
      "[LightGBM] [Warning] bagging_freq is set=1, subsample_freq=0 will be ignored. Current value: bagging_freq=1\n",
      "[LightGBM] [Warning] bagging_freq is set=1, subsample_freq=0 will be ignored. Current value: bagging_freq=1\n",
      "[LightGBM] [Warning] bagging_freq is set=1, subsample_freq=0 will be ignored. Current value: bagging_freq=1\n",
      "[LightGBM] [Warning] bagging_freq is set=1, subsample_freq=0 will be ignored. Current value: bagging_freq=1\n",
      "[LightGBM] [Warning] bagging_freq is set=1, subsample_freq=0 will be ignored. Current value: bagging_freq=1\n",
      "[LightGBM] [Warning] bagging_freq is set=1, subsample_freq=0 will be ignored. Current value: bagging_freq=1\n",
      "[LightGBM] [Warning] bagging_freq is set=1, subsample_freq=0 will be ignored. Current value: bagging_freq=1\n",
      "[LightGBM] [Warning] bagging_freq is set=1, subsample_freq=0 will be ignored. Current value: bagging_freq=1\n",
      "[LightGBM] [Warning] bagging_freq is set=1, subsample_freq=0 will be ignored. Current value: bagging_freq=1\n",
      "[LightGBM] [Warning] bagging_freq is set=1, subsample_freq=0 will be ignored. Current value: bagging_freq=1\n",
      "[LightGBM] [Warning] bagging_freq is set=1, subsample_freq=0 will be ignored. Current value: bagging_freq=1\n",
      "AP:         0.6922\n",
      "AUC:        0.7951\n",
      "Train acc:  0.8587\n",
      "Test acc:   0.7437\n"
     ]
    }
   ],
   "source": [
    "def tune_lgbm(param_grid):  #,Xtr,ytr,Xtest,ytest\n",
    "    learning_rate     = param_grid[0]\n",
    "    max_depth         = param_grid[1]\n",
    "    min_child_samples = param_grid[2]\n",
    "    subsample         = param_grid[3]\n",
    "    colsample_bytree  = param_grid[4]\n",
    "    n_estimators      = param_grid[5]\n",
    "    min_df            = param_grid[6]\n",
    "    max_feat          = param_grid[7]\n",
    "    \n",
    "    # title vectorizer:\n",
    "    Xtr, Xtest, ytr, ytest = train_test_split(X,y,test_size=0.4,random_state=0)\n",
    "    title_bow_tr, title_bow_test = Title_bow(Xtr,Xtest,min_df,(1,1), max_feat )\n",
    "    Xtr  = hstack([Xtr.drop(['title'],axis=1), title_bow_tr])\n",
    "    Xtest = hstack([Xtest.drop(['title'],axis=1), title_bow_test])\n",
    "    # model:\n",
    "    clf_LGBM = LGBMClassifier(learning_rate=learning_rate, num_leaves=2 ** max_depth, max_depth=max_depth, \n",
    "                         min_child_samples=min_child_samples, subsample=subsample,\n",
    "                         colsample_bytree=colsample_bytree, bagging_freq=1,n_estimators=n_estimators,\n",
    "                         random_state=0, class_weight=\"balanced\", n_jobs=6)\n",
    "    clf_LGBM.fit(Xtr, ytr)\n",
    "    # scores:\n",
    "    p = clf_LGBM.predict_proba(Xtest)[:, 1]\n",
    "    ap = average_precision_score(ytest, p)\n",
    "    auc = roc_auc_score(ytest, p)         \n",
    "    train_acc = clf_LGBM.score(Xtr,ytr)\n",
    "    test_acc  = clf_LGBM.score(Xtest,ytest)\n",
    "    \n",
    "    metric = ap -0.2*(train_acc-test_acc) +0.3*test_acc\n",
    "    return -metric\n",
    "\n",
    "param_grid = [(1e-3, 1e-1, 'log-uniform'), # learning_rate\n",
    "          (1, 8),                          # max_depth\n",
    "          (1, 15),                         # min_child_samples\n",
    "          (0.1, 1.),                       # subsample\n",
    "          (0.1, 1.),                       # colsample_bytree\n",
    "          (500,1000),                      # n_estimators\n",
    "          (1,2),                           # min_df\n",
    "          (150,420)]                       # max_feat\n",
    "res = forest_minimize(tune_lgbm, param_grid, random_state=0, n_random_starts=50, n_calls=100)\n",
    "best_params = res.x\n",
    "\n",
    "# Let's use the optimized parameters:\n",
    "learning_rate     = best_params[0]\n",
    "max_depth         = best_params[1]\n",
    "min_child_samples = best_params[2]\n",
    "subsample         = best_params[3]\n",
    "colsample_bytree  = best_params[4]\n",
    "n_estimators      = best_params[5]\n",
    "\n",
    "# Retraining the LightGBM model using optimized parameters:\n",
    "clf_LGBM = LGBMClassifier(learning_rate=learning_rate, num_leaves=2 ** max_depth, max_depth=max_depth, \n",
    "                 min_child_samples=min_child_samples, subsample=subsample,\n",
    "                 colsample_bytree=colsample_bytree, bagging_freq=1,n_estimators=n_estimators,\n",
    "                 random_state=0, class_weight=\"balanced\", n_jobs=6)\n",
    "clf_LGBM.fit(Xtr, ytr)\n",
    "p = clf_LGBM.predict_proba(Xtest)[:, 1]\n",
    "ap = average_precision_score(ytest, p)\n",
    "auc = roc_auc_score(ytest, p)     \n",
    "print('{:<10}  {}'.format('AP:',round(ap,4)))\n",
    "print('{:<10}  {}'.format('AUC:',round(auc,4)))\n",
    "print('{:<10}  {}'.format('Train acc:',round(clf_LGBM.score(Xtr,ytr),4)))\n",
    "print('{:<10}  {}'.format('Test acc:',round(clf_LGBM.score(Xtest,ytest),4)))"
   ]
  },
  {
   "cell_type": "code",
   "execution_count": 15,
   "metadata": {},
   "outputs": [
    {
     "data": {
      "text/plain": [
       "[0.049308407922096606,\n",
       " 2,\n",
       " 11,\n",
       " 0.871395369305673,\n",
       " 0.7191742165364887,\n",
       " 939,\n",
       " 1,\n",
       " 285]"
      ]
     },
     "execution_count": 15,
     "metadata": {},
     "output_type": "execute_result"
    }
   ],
   "source": [
    "best_params"
   ]
  },
  {
   "cell_type": "code",
   "execution_count": 16,
   "metadata": {},
   "outputs": [
    {
     "name": "stdout",
     "output_type": "stream",
     "text": [
      "[LightGBM] [Warning] bagging_freq is set=1, subsample_freq=0 will be ignored. Current value: bagging_freq=1\n",
      "AP:         0.6895\n",
      "AUC:        0.7931\n",
      "Train acc:  0.8623\n",
      "Test acc:   0.7455\n"
     ]
    }
   ],
   "source": [
    "# Let's use the optimized parameters:\n",
    "learning_rate     = best_params[0]\n",
    "max_depth         = best_params[1]\n",
    "min_child_samples = best_params[2]\n",
    "subsample         = best_params[3]\n",
    "colsample_bytree  = best_params[4]\n",
    "n_estimators      = 1000\n",
    "\n",
    "# Using title vectorizer with the  good choice for max_features:\n",
    "Xtr, Xtest, ytr, ytest = train_test_split(X,y,test_size=0.4,random_state=0)\n",
    "title_bow_tr, title_bow_test = Title_bow(Xtr,Xtest,2,(1,1), 400 )\n",
    "Xtr  = hstack([Xtr.drop(['title'],axis=1), title_bow_tr])\n",
    "Xtest = hstack([Xtest.drop(['title'],axis=1), title_bow_test])\n",
    "\n",
    "# Retraining the LightGBM model using optimized parameters:\n",
    "clf_LGBM = LGBMClassifier(learning_rate=learning_rate, num_leaves=2 ** max_depth, max_depth=max_depth, \n",
    "                         min_child_samples=min_child_samples, subsample=subsample,\n",
    "                         colsample_bytree=colsample_bytree, bagging_freq=1,n_estimators=n_estimators,\n",
    "                         random_state=0, class_weight=\"balanced\", n_jobs=6)\n",
    "clf_LGBM.fit(Xtr, ytr)\n",
    "p = clf_LGBM.predict_proba(Xtest)[:, 1]\n",
    "ap = average_precision_score(ytest, p)\n",
    "auc = roc_auc_score(ytest, p)     \n",
    "print('{:<10}  {}'.format('AP:',round(ap,4)))\n",
    "print('{:<10}  {}'.format('AUC:',round(auc,4)))\n",
    "print('{:<10}  {}'.format('Train acc:',round(clf_LGBM.score(Xtr,ytr),4)))\n",
    "print('{:<10}  {}'.format('Test acc:',round(clf_LGBM.score(Xtest,ytest),4)))"
   ]
  },
  {
   "cell_type": "markdown",
   "metadata": {},
   "source": [
    "The average precision has improved after tuning the parameters, but when compare to that of the Random Forest model it is not superior.\n",
    "\n",
    "# Logistic Regression\n",
    "\n",
    "At last, we will check how Logistic Regression classifier performs and see if it beats Random Forest, which is the best model so far.\n",
    "\n",
    "First, we will use the StandardScaler(), which is the usual normalization by subtracting the mean and dividing by the standard deviation. But we need to use csr_matrix() (compressed sparse row matrix) to convert the sparse the columns (related to the videos titles) of the training dataset into dense columns. After done that, we can see how the model performs with this kind  of normalization."
   ]
  },
  {
   "cell_type": "code",
   "execution_count": 17,
   "metadata": {},
   "outputs": [
    {
     "data": {
      "text/plain": [
       "(0.5852219186113436, 0.713146923519264)"
      ]
     },
     "execution_count": 17,
     "metadata": {},
     "output_type": "execute_result"
    }
   ],
   "source": [
    "# Standard Normalization:\n",
    "scaler = StandardScaler()\n",
    "Xtr2 = csr_matrix(Xtr.copy());   \n",
    "Xtest2 = csr_matrix(Xtest.copy());\n",
    "\n",
    "#Xtr2[:, :5] = scaler.fit_transform(Xtr2[:, :5].todense())\n",
    "#Xtest2[:, :5] = scaler.transform(Xtest2[:, :5].todense())\n",
    "\n",
    "Xtr2[:, :] = scaler.fit_transform(Xtr2[:, :].todense())\n",
    "Xtest2[:, :] = scaler.transform(Xtest2[:, :].todense())\n",
    "\n",
    "# Fitting model:\n",
    "clf_LR = LogisticRegression(C=0.5,n_jobs=6, random_state=0)\n",
    "clf_LR.fit(Xtr2, ytr)\n",
    "# Evaluating model:\n",
    "p = clf_LR.predict_proba(Xtest2)[:, 1]\n",
    "average_precision_score(ytest, p), roc_auc_score(ytest, p)"
   ]
  },
  {
   "cell_type": "code",
   "execution_count": 18,
   "metadata": {},
   "outputs": [
    {
     "data": {
      "text/plain": [
       "(0.6960182992525009, 0.7949468085106383)"
      ]
     },
     "execution_count": 18,
     "metadata": {},
     "output_type": "execute_result"
    }
   ],
   "source": [
    "# Maximum absolute scaling:\n",
    "scaler = MaxAbsScaler()\n",
    "Xtr2 = csr_matrix(Xtr.copy());   \n",
    "Xtest2 = csr_matrix(Xtest.copy());\n",
    "\n",
    "Xtr2[:, :] = scaler.fit_transform(Xtr2[:, :].todense())\n",
    "Xtest2[:, :] = scaler.transform(Xtest2[:, :].todense())\n",
    "\n",
    "# Fitting model:\n",
    "clf_LR = LogisticRegression(C=0.5,n_jobs=6, random_state=0)\n",
    "clf_LR.fit(Xtr2, ytr)\n",
    "# Evaluating model:\n",
    "p = clf_LR.predict_proba(Xtest2)[:, 1]\n",
    "average_precision_score(ytest, p), roc_auc_score(ytest, p)"
   ]
  },
  {
   "cell_type": "markdown",
   "metadata": {},
   "source": [
    "**Observation:**\n",
    "\n",
    "I noticed that when I normalize only the first five columns of the training set, which are that columns that are originally not sparse, the result I get for the ap and auc metrics are:<br>\n",
    "StandardScaler(): (0.6624527465434212, 0.7749640598044854) <br>\n",
    "MaxAbsScaler() :   (0.6799009901194846, 0.7850129384703853) <br>\n",
    "\n",
    "But when I apply the normalization to the whole set, I get: <br>\n",
    "StandardScaler(): (0.5852219186113436, 0.713146923519264) <br>\n",
    "MaxAbsScaler() :  (0.6960182992525009, 0.7949468085106383)  <br>\n",
    "\n",
    "MaxAbsScaler shows superior performance in comparison to StandardScaler, specially when we scale all columns of the dataset. Therefore, we will use MaxAbsScaler to train our Logistic Regression model, scaling all features of the dataset.\n",
    "\n",
    "Next, we will try different values for the parameter C:"
   ]
  },
  {
   "cell_type": "code",
   "execution_count": 19,
   "metadata": {},
   "outputs": [
    {
     "data": {
      "text/plain": [
       "(0.6993378745490225, 0.7977357676825761)"
      ]
     },
     "execution_count": 19,
     "metadata": {},
     "output_type": "execute_result"
    }
   ],
   "source": [
    "def explore_LR(C): \n",
    "    \"\"\"Takes a list of values for the regularization parameter\n",
    "    and returns the metrics scores related to each of the choices.\"\"\"\n",
    "    AP = []; AUC = []; tr_acc = []; ts_acc = [] \n",
    "    w = {0:1,1:1.4}                 \n",
    "    for c in C:                  #solvers to test: 'newton-cg', 'lbfgs', 'sag', 'liblinear','elasticnet','l1','l2'\n",
    "        clf_LR = LogisticRegression(C=c,n_jobs=6, random_state=0, class_weight=w,solver='liblinear');\n",
    "        clf_LR.fit(Xtr2, ytr)\n",
    "        p  = clf_LR.predict_proba(Xtest2)[:, 1]\n",
    "        ap = average_precision_score(ytest, p)\n",
    "        auc= roc_auc_score(ytest, p)\n",
    "        train_acc = clf_LR.score(Xtr2,ytr)\n",
    "        test_acc  = clf_LR.score(Xtest2,ytest)\n",
    "        AP.append(ap); AUC.append(auc); tr_acc.append(train_acc); ts_acc.append(test_acc)\n",
    "    return AP, AUC, tr_acc, ts_acc\n",
    "C = [0.005,0.01,0.03,0.05,0.1,0.3,0.5,0.6,0.8,1,1.3,1.5,2,3]\n",
    "AP, AUC, tr_acc, ts_acc = explore_LR(C)\n",
    "max(AP), max(AUC)"
   ]
  },
  {
   "cell_type": "code",
   "execution_count": 20,
   "metadata": {},
   "outputs": [
    {
     "data": {
      "image/png": "[encoded data removed]",
      "text/plain": [
       "<Figure size 432x288 with 1 Axes>"
      ]
     },
     "metadata": {
      "needs_background": "light"
     },
     "output_type": "display_data"
    }
   ],
   "source": [
    "# Plotting metrics scores\n",
    "plt.plot(C,AP,label='ap'); plt.plot(C,AUC,label='auc');\n",
    "plt.plot(C,tr_acc,label='train',ls=('dashed'));plt.plot(C,ts_acc,label='test',ls=('dashed'));\n",
    "plt.legend(); plt.xlabel('C'); plt.ylabel('metric scores'); plt.title(\"Metric scores vs Regularization paramter\");"
   ]
  },
  {
   "cell_type": "markdown",
   "metadata": {},
   "source": [
    "The only metric which continually rises when we increase the regularization parameter C is the training accuracy, which is related to an increasing overfitting. The other metrics start decline after C=0.3, approximately.\n",
    "\n",
    "#### Fitted Logistic Regression"
   ]
  },
  {
   "cell_type": "code",
   "execution_count": 21,
   "metadata": {},
   "outputs": [
    {
     "data": {
      "text/plain": [
       "(0.6993378745490225, 0.7977357676825761)"
      ]
     },
     "execution_count": 21,
     "metadata": {},
     "output_type": "execute_result"
    }
   ],
   "source": [
    "scaler = MaxAbsScaler()\n",
    "Xtr2 = csr_matrix(Xtr.copy());   \n",
    "Xtest2 = csr_matrix(Xtest.copy());\n",
    "w = {0:1,1:1.4}\n",
    "clf_LR = make_pipeline(scaler,LogisticRegression(C=0.3,n_jobs=6,random_state=0,class_weight=w,solver='liblinear'))\n",
    "clf_LR.fit(Xtr2, ytr)\n",
    "\n",
    "p_lr = clf_LR.predict_proba(Xtest2)[:, 1]\n",
    "average_precision_score(ytest, p_lr), roc_auc_score(ytest, p_lr)"
   ]
  },
  {
   "cell_type": "markdown",
   "metadata": {},
   "source": [
    "The average precision and auc of Logistic Regression look slightly better than those of LightGBM, but it is inferior to those of Random Forest."
   ]
  },
  {
   "cell_type": "markdown",
   "metadata": {},
   "source": [
    "# Final Ensemble\n",
    "\n",
    "Let's try to combine the models to see if we have a better prediction than that of individual classifiers."
   ]
  },
  {
   "cell_type": "code",
   "execution_count": 22,
   "metadata": {},
   "outputs": [],
   "source": [
    "# Training and test datasets:\n",
    "Xtr, Xtest, ytr, ytest = train_test_split(X,y,test_size=0.4,random_state=0)\n",
    "title_vec      = TfidfVectorizer(min_df=2, ngram_range=(1,1),max_features=400)\n",
    "title_bow_tr   = title_vec.fit_transform(Xtr['title']) \n",
    "title_bow_test = title_vec.transform(Xtest['title'])\n",
    "\n",
    "Xtr  = hstack([Xtr.drop(['title'],axis=1), title_bow_tr])\n",
    "Xtest = hstack([Xtest.drop(['title'],axis=1), title_bow_test])"
   ]
  },
  {
   "cell_type": "code",
   "execution_count": 36,
   "metadata": {},
   "outputs": [],
   "source": [
    "# RANDOM FOREST\n",
    "n_estimators =      1000\n",
    "max_features =      best_param[39]['max_features']\n",
    "max_depth =         best_param[39]['max_depth']\n",
    "min_samples_split = best_param[39]['min_samples_split']\n",
    "min_samples_leaf =  best_param[39]['min_samples_leaf']\n",
    "max_leaf_nodes =    best_param[39]['max_leaf_nodes']\n",
    "\n",
    "clf_RF = RandomForestClassifier(n_estimators=n_estimators, max_features=max_features, max_depth=max_depth,\n",
    "                                min_samples_split=min_samples_split, min_samples_leaf=min_samples_leaf,\n",
    "                                max_leaf_nodes=None, class_weight=\"balanced\", n_jobs=4, random_state=0)\n",
    "clf_RF.fit(Xtr, ytr)\n",
    "p_rf = clf_RF.predict_proba(Xtest)[:,1]"
   ]
  },
  {
   "cell_type": "code",
   "execution_count": 24,
   "metadata": {},
   "outputs": [
    {
     "name": "stdout",
     "output_type": "stream",
     "text": [
      "[LightGBM] [Warning] bagging_freq is set=1, subsample_freq=0 will be ignored. Current value: bagging_freq=1\n"
     ]
    }
   ],
   "source": [
    "# LGBM\n",
    "learning_rate     = best_params[0]\n",
    "max_depth         = best_params[1]\n",
    "min_child_samples = best_params[2]\n",
    "subsample         = best_params[3]\n",
    "colsample_bytree  = best_params[4]\n",
    "n_estimators      = 1000\n",
    "clf_LGBM = LGBMClassifier(learning_rate=learning_rate, num_leaves=2 ** max_depth, max_depth=max_depth, \n",
    "                         min_child_samples=min_child_samples, subsample=subsample,\n",
    "                         colsample_bytree=colsample_bytree, bagging_freq=1,n_estimators=n_estimators,\n",
    "                         random_state=0, class_weight=\"balanced\", n_jobs=6)\n",
    "clf_LGBM.fit(Xtr, ytr)\n",
    "p_lgbm = clf_LGBM.predict_proba(Xtest)[:, 1]"
   ]
  },
  {
   "cell_type": "code",
   "execution_count": 25,
   "metadata": {},
   "outputs": [],
   "source": [
    "# LOGISTIC REGRESSION\n",
    "scaler = MaxAbsScaler()\n",
    "Xtr2 = csr_matrix(Xtr.copy());   \n",
    "Xtest2 = csr_matrix(Xtest.copy());\n",
    "w = {0:1,1:1.4}\n",
    "clf_LR = make_pipeline(scaler,LogisticRegression(C=0.3,n_jobs=6,random_state=0,class_weight=w,solver='liblinear'))\n",
    "clf_LR.fit(Xtr2, ytr)\n",
    "p_lr = clf_LR.predict_proba(Xtest2)[:, 1]"
   ]
  },
  {
   "cell_type": "code",
   "execution_count": 37,
   "metadata": {},
   "outputs": [
    {
     "data": {
      "text/html": [
       "<div>\n",
       "<style scoped>\n",
       "    .dataframe tbody tr th:only-of-type {\n",
       "        vertical-align: middle;\n",
       "    }\n",
       "\n",
       "    .dataframe tbody tr th {\n",
       "        vertical-align: top;\n",
       "    }\n",
       "\n",
       "    .dataframe thead th {\n",
       "        text-align: right;\n",
       "    }\n",
       "</style>\n",
       "<table border=\"1\" class=\"dataframe\">\n",
       "  <thead>\n",
       "    <tr style=\"text-align: right;\">\n",
       "      <th></th>\n",
       "      <th>LR</th>\n",
       "      <th>RF</th>\n",
       "      <th>LGBM</th>\n",
       "    </tr>\n",
       "  </thead>\n",
       "  <tbody>\n",
       "    <tr>\n",
       "      <th>LR</th>\n",
       "      <td>1.000000</td>\n",
       "      <td>0.893589</td>\n",
       "      <td>0.812261</td>\n",
       "    </tr>\n",
       "    <tr>\n",
       "      <th>RF</th>\n",
       "      <td>0.893589</td>\n",
       "      <td>1.000000</td>\n",
       "      <td>0.871611</td>\n",
       "    </tr>\n",
       "    <tr>\n",
       "      <th>LGBM</th>\n",
       "      <td>0.812261</td>\n",
       "      <td>0.871611</td>\n",
       "      <td>1.000000</td>\n",
       "    </tr>\n",
       "  </tbody>\n",
       "</table>\n",
       "</div>"
      ],
      "text/plain": [
       "            LR        RF      LGBM\n",
       "LR    1.000000  0.893589  0.812261\n",
       "RF    0.893589  1.000000  0.871611\n",
       "LGBM  0.812261  0.871611  1.000000"
      ]
     },
     "execution_count": 37,
     "metadata": {},
     "output_type": "execute_result"
    }
   ],
   "source": [
    "# Let us take a look at how the models are correlated:\n",
    "pd.DataFrame({\"LR\": p_lr, \"RF\": p_rf, \"LGBM\": p_lgbm}).corr()"
   ]
  },
  {
   "cell_type": "markdown",
   "metadata": {},
   "source": [
    "#### Simple average"
   ]
  },
  {
   "cell_type": "code",
   "execution_count": 38,
   "metadata": {},
   "outputs": [
    {
     "data": {
      "text/plain": [
       "(0.7176263347952183, 0.8098260494537091)"
      ]
     },
     "execution_count": 38,
     "metadata": {},
     "output_type": "execute_result"
    }
   ],
   "source": [
    "p = (p_lr + p_rf + p_lgbm)/3\n",
    "average_precision_score(ytest, p), roc_auc_score(ytest, p)"
   ]
  },
  {
   "cell_type": "code",
   "execution_count": 39,
   "metadata": {},
   "outputs": [
    {
     "data": {
      "text/plain": [
       "(0.7135711390447523, 0.8061313973548017)"
      ]
     },
     "execution_count": 39,
     "metadata": {},
     "output_type": "execute_result"
    }
   ],
   "source": [
    "p = (p_lr + p_rf )/2\n",
    "average_precision_score(ytest, p), roc_auc_score(ytest, p)"
   ]
  },
  {
   "cell_type": "code",
   "execution_count": 40,
   "metadata": {},
   "outputs": [
    {
     "data": {
      "text/plain": [
       "(0.7080297340939422, 0.8006972397929845)"
      ]
     },
     "execution_count": 40,
     "metadata": {},
     "output_type": "execute_result"
    }
   ],
   "source": [
    "p = (p_rf + p_lgbm )/2\n",
    "average_precision_score(ytest, p), roc_auc_score(ytest, p)"
   ]
  },
  {
   "cell_type": "code",
   "execution_count": 41,
   "metadata": {},
   "outputs": [
    {
     "data": {
      "text/plain": [
       "(0.7128903110684247, 0.8074252443933295)"
      ]
     },
     "execution_count": 41,
     "metadata": {},
     "output_type": "execute_result"
    }
   ],
   "source": [
    "p = (p_lr + p_lgbm )/2\n",
    "average_precision_score(ytest, p), roc_auc_score(ytest, p)"
   ]
  },
  {
   "cell_type": "markdown",
   "metadata": {},
   "source": [
    "As we already knew from the previous sections, Logistic Regression has a slightly worse performance in comparison to the other models. Still, the combination of all three models seems to be the best choice.\n",
    "\n",
    "#### Weighted average"
   ]
  },
  {
   "cell_type": "code",
   "execution_count": 42,
   "metadata": {},
   "outputs": [
    {
     "data": {
      "text/plain": [
       "(0.7136426726484428, 0.8068789534215066)"
      ]
     },
     "execution_count": 42,
     "metadata": {},
     "output_type": "execute_result"
    }
   ],
   "source": [
    "p = 0.2*p_lr + 0.4*p_rf + 0.4*p_lgbm\n",
    "average_precision_score(ytest, p), roc_auc_score(ytest, p)"
   ]
  },
  {
   "cell_type": "code",
   "execution_count": 43,
   "metadata": {},
   "outputs": [
    {
     "data": {
      "text/plain": [
       "(0.7167295147298323, 0.8092222541690626)"
      ]
     },
     "execution_count": 43,
     "metadata": {},
     "output_type": "execute_result"
    }
   ],
   "source": [
    "p = 0.2*p_lr + 0.5*p_rf + 0.3*p_lgbm\n",
    "average_precision_score(ytest, p), roc_auc_score(ytest, p)"
   ]
  },
  {
   "cell_type": "code",
   "execution_count": 44,
   "metadata": {},
   "outputs": [
    {
     "data": {
      "text/plain": [
       "(0.7111201240303211, 0.8034861989649222)"
      ]
     },
     "execution_count": 44,
     "metadata": {},
     "output_type": "execute_result"
    }
   ],
   "source": [
    "p = 0.4*p_lgbm + 0.6*p_rf\n",
    "average_precision_score(ytest, p), roc_auc_score(ytest, p)"
   ]
  },
  {
   "cell_type": "code",
   "execution_count": 45,
   "metadata": {},
   "outputs": [
    {
     "data": {
      "text/plain": [
       "(0.704621380532999, 0.7993027602070155)"
      ]
     },
     "execution_count": 45,
     "metadata": {},
     "output_type": "execute_result"
    }
   ],
   "source": [
    "p = 0.6*p_lgbm + 0.4*p_rf\n",
    "average_precision_score(ytest, p), roc_auc_score(ytest, p)"
   ]
  },
  {
   "cell_type": "code",
   "execution_count": 46,
   "metadata": {},
   "outputs": [
    {
     "data": {
      "text/plain": [
       "(0.7194215394565769, 0.8120687176538239)"
      ]
     },
     "execution_count": 46,
     "metadata": {},
     "output_type": "execute_result"
    }
   ],
   "source": [
    "p = 0.3*p_lr + 0.5*p_rf + 0.2*p_lgbm\n",
    "average_precision_score(ytest, p), roc_auc_score(ytest, p)"
   ]
  },
  {
   "cell_type": "code",
   "execution_count": 47,
   "metadata": {},
   "outputs": [
    {
     "data": {
      "text/plain": [
       "(0.7143124523441631, 0.8073533640023001)"
      ]
     },
     "execution_count": 47,
     "metadata": {},
     "output_type": "execute_result"
    }
   ],
   "source": [
    "p = 0.4*p_lr + 0.6*p_rf\n",
    "average_precision_score(ytest, p), roc_auc_score(ytest, p)"
   ]
  },
  {
   "cell_type": "code",
   "execution_count": 48,
   "metadata": {},
   "outputs": [
    {
     "data": {
      "text/plain": [
       "(0.7150660889961689, 0.8079715353651523)"
      ]
     },
     "execution_count": 48,
     "metadata": {},
     "output_type": "execute_result"
    }
   ],
   "source": [
    "p = 0.3*p_lr + 0.7*p_rf\n",
    "average_precision_score(ytest, p), roc_auc_score(ytest, p)"
   ]
  },
  {
   "cell_type": "markdown",
   "metadata": {},
   "source": [
    "The weighted combination, with Logistic Regression, Random Forest and LightGBM having weights of 0.3, 0.5 and 0.2, respectively, provides us with the best scores for the average precision and the area under the ROC curve metrics. However, we still should take a look at how those classifiers will perform on new, unseen data before we build the web application to show the results of the project to the public. Check the notebook \"Testing_Model_in_Production.ipynb\" to see the conclusion.\n",
    "\n",
    "# Saving trained models\n",
    "\n",
    "We will now save our trained machine learning classifiers, as well as the title vectorizer, in order to use them in production."
   ]
  },
  {
   "cell_type": "code",
   "execution_count": 51,
   "metadata": {},
   "outputs": [
    {
     "data": {
      "text/plain": [
       "['title_vectorizer_2021.pkl.z']"
      ]
     },
     "execution_count": 51,
     "metadata": {},
     "output_type": "execute_result"
    }
   ],
   "source": [
    "import joblib as jb\n",
    "jb.dump(clf_LGBM, \"lgbm_2021.pkl.z\")\n",
    "jb.dump(clf_RF, \"random_forest_2021.pkl.z\")\n",
    "jb.dump(clf_LR, \"logistic_reg_2021.pkl.z\")\n",
    "jb.dump(title_vec, \"title_vectorizer_2021.pkl.z\")"
   ]
  },
  {
   "cell_type": "code",
   "execution_count": null,
   "metadata": {},
   "outputs": [],
   "source": []
  }
 ],
 "metadata": {
  "kernelspec": {
   "display_name": "Python 3",
   "language": "python",
   "name": "python3"
  },
  "language_info": {
   "codemirror_mode": {
    "name": "ipython",
    "version": 3
   },
   "file_extension": ".py",
   "mimetype": "text/x-python",
   "name": "python",
   "nbconvert_exporter": "python",
   "pygments_lexer": "ipython3",
   "version": "3.8.8"
  }
 },
 "nbformat": 4,
 "nbformat_minor": 4
}
